{
 "cells": [
  {
   "cell_type": "code",
   "execution_count": 2,
   "metadata": {},
   "outputs": [],
   "source": [
    "import numpy\n",
    "import random\n",
    "import math\n",
    "from scipy.optimize import linprog"
   ]
  },
  {
   "cell_type": "markdown",
   "metadata": {},
   "source": [
    "# Primal Problem\n",
    "The following code solves the following linear equations: <br>\n",
    "<u>Objective:</u><br>max 5$X_{1}$ + 3$X_{2}$ + 8$X_{3}$<br>\n",
    "<u>Resource Constraints:</u><br>\n",
    "0.05$X_{1}$ + 0.5$X_{2}$ + 0.3$X_{3}$ <= 200 <br> 0.02$X_{1}$ + 0.1$X_{3}$ <= 100 <br> 0.03$X_{1}$ + 0.1$X_{3}$ <= 150 <br>\n",
    "<u>Demand Constraints:</u><br>\n",
    "$X_{1}$ <= 1500 <br> $X_{2}$ <= 500 <br> $X_{3}$ <= 800 <br> $X_{1}$ >=0 <br> $X_{2}$ >=0 <br> $X_{3}$ >=0"
   ]
  },
  {
   "cell_type": "markdown",
   "metadata": {},
   "source": [
    "## Converting Equations to Python lists\n",
    "\n",
    "- List A contains the LHS coefficients of the resource constraints and demand Constraints \n",
    "- List B Contains RHS cofficients of the resource constraints and demand Constraints \n",
    "- List C contains coefficients of the objective equation \n",
    "\n",
    "*Scipy implementation of linprog solves for minimizing the objective function and since we need to maximize the objective we convert the values of list C to negative values*\n"
   ]
  },
  {
   "cell_type": "code",
   "execution_count": 3,
   "metadata": {},
   "outputs": [
    {
     "name": "stdout",
     "output_type": "stream",
     "text": [
      "Value is 10833.333333333334\n",
      "Allocation is [1500.            0.          416.66666667]\n"
     ]
    }
   ],
   "source": [
    "A = [[0.05,0.5,0.3],[0.02,0,0.1],[0.03,0,0.1],[1,0,0],[0,1,0],[0,0,1]]\n",
    "B = [200,100,150,1500,500,800] \n",
    "C = [-5,-3,-8]\n",
    "value = linprog(C,A_ub=A,b_ub=B) \n",
    "print(\"Value is \"+str(-1*value.fun)) \n",
    "print(\"Allocation is \"+str(value.x))"
   ]
  },
  {
   "cell_type": "markdown",
   "metadata": {},
   "source": [
    "# Dual Problem\n",
    "The following code solves the following linear equations: <br>\n",
    "<u>Objective:</u><br>min 200$b_{1}$ + 100$b_{2}$ + 150$b_{3}$+ 1500$z_{1}$ + 500$z_{2}$ + 800$z_{3}$ <br>\n",
    "<u>No Regret Constraints:</u><br>\n",
    "0.05$b_{1}$ + 0.02$b_{2}$ + 0.03$b_{3}$ + $z_{1}$ >= 5 <br> 0.5$b_{1}$ + $z_{2}$ >= 3 <br>\n",
    "0.3$b_{1}$ + 0.1$b_{2}$ + 0.1$b_{3}$ + $z_{3}$ >= 8 <br>\n",
    "$b_{1}$ >= 0 <br>\n",
    "$b_{2}$ >= 0 <br>\n",
    "$b_{3}$ >= 0 <br>\n",
    "$z_{1}$ >= 0 <br>\n",
    "$z_{2}$ >= 0 <br>\n",
    "$z_{3}$ >= 0 <br>"
   ]
  },
  {
   "cell_type": "markdown",
   "metadata": {},
   "source": [
    "## Converting Equations to Python lists\n",
    "\n",
    "- List A contains the LHS coefficients of no regret constraints \n",
    "- List B Contains RHS cofficients of no regret constraints\n",
    "- List C contains coefficients of the objective equation \n",
    "\n",
    "*Signs of List A,B and C are reversed when compared to the primal problem*\n"
   ]
  },
  {
   "cell_type": "code",
   "execution_count": 6,
   "metadata": {},
   "outputs": [
    {
     "name": "stdout",
     "output_type": "stream",
     "text": [
      "Value is 10833.333333333332\n",
      "Shadow prices are [26.66666667  0.          0.          3.66666667  0.          0.        ]\n"
     ]
    }
   ],
   "source": [
    "A = [[-0.05,-0.02,-0.03,-1,0,0],[-0.5,0,0,0,-1,0],[-0.3,-0.1,-0.1,0,0,-1]]\n",
    "B = [-5,-3,-8] \n",
    "C = [200,100,150,1500,500,800] \n",
    "value = linprog(C,A_ub=A,b_ub=B) \n",
    "print(\"Value is \"+str(value.fun)) \n",
    "print('Shadow prices are '+str(value.x))"
   ]
  },
  {
   "cell_type": "markdown",
   "metadata": {},
   "source": [
    "#  Linear Programming with Random Sample"
   ]
  },
  {
   "cell_type": "code",
   "execution_count": 9,
   "metadata": {},
   "outputs": [
    {
     "name": "stdout",
     "output_type": "stream",
     "text": [
      "Revenue is 30700.0\n",
      "Allocation is [55.  0. 75.  0. 45.  0.]\n"
     ]
    }
   ],
   "source": [
    "A = [[1,1,0,0,1,1],[0,0,1,1,1,1],[1,0,0,0,0,0],[0,1,0,0,0,0],[0,0,1,0,0,0], [0,0,0,1,0,0],[0,0,0,0,1,0],[0,0,0,0,0,1]]\n",
    "B = [100,120,60,22.5,75,45,75,7.5]\n",
    "C = [-175,-100,-125,-75,-260,-175]\n",
    "T = 300 \n",
    "lbda = [0.05,0.2,0.075,0.25,0.15,0.25,0.025] \n",
    "Valuesamples = [] \n",
    "for k in range(1000): #Samples \n",
    "    Demandsample = [0]*len(lbda) #Initialize the demands \n",
    "    for time in range(T): #Sample the demand for different products at each time \n",
    "            product = int(numpy.random.choice([0,1,2,3,4,5,6],1,lbda))\n",
    "            Demandsample[product] += 1\n",
    "    b = [100,120]+Demandsample[1:] \n",
    "    result = linprog(C, A_ub=A, b_ub=B)\n",
    "    Valuesamples.append(-result.fun)\n",
    "print('Revenue is '+str(sum(Valuesamples)/len(Valuesamples)))\n",
    "print(\"Allocation is \"+str(result.x))"
   ]
  }
 ],
 "metadata": {
  "kernelspec": {
   "display_name": "Python 3",
   "language": "python",
   "name": "python3"
  },
  "language_info": {
   "codemirror_mode": {
    "name": "ipython",
    "version": 3
   },
   "file_extension": ".py",
   "mimetype": "text/x-python",
   "name": "python",
   "nbconvert_exporter": "python",
   "pygments_lexer": "ipython3",
   "version": "3.7.1"
  }
 },
 "nbformat": 4,
 "nbformat_minor": 2
}
